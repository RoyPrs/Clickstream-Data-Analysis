{
 "cells": [
  {
   "cell_type": "code",
   "execution_count": 5,
   "id": "0a0a8b25-58a1-4e97-b983-151f3b752488",
   "metadata": {},
   "outputs": [],
   "source": [
    "\n",
    "import os\n",
    "import clickhouse_connect\n",
    "import pymysql\n",
    "\n",
    "from datetime import datetime\n",
    "import pandas as pd\n",
    "import numpy as np\n"
   ]
  },
  {
   "cell_type": "markdown",
   "id": "4fd80174-4546-4312-982d-bc1e9033d57e",
   "metadata": {},
   "source": [
    "## Reading Users from database"
   ]
  },
  {
   "cell_type": "code",
   "execution_count": 6,
   "id": "b65d86df-14de-4f09-8c94-cdb699a3a9e6",
   "metadata": {},
   "outputs": [],
   "source": [
    "query = \"\"\"SELECT\n",
    "  users.ID AS UserID,\n",
    "  users.CreatedAt AS JoinDate,\n",
    "  FirstOrder.FirstOrderAt AS ActivationDate,\n",
    "  DATEDIFF(FirstOrder.FirstOrderAt, users.CreatedAt) AS ActivationPeriod\n",
    "FROM\n",
    "  users\n",
    "  LEFT JOIN `vw_users_first_order` AS FirstOrder ON users.ID = FirstOrder.UserID\n",
    "  WHERE users.CreatedAt >= timestamp '2024-01-01 00:00:00.000' AND FirstOrder.FirstOrderAt IS NOT NULL\"\"\"\n"
   ]
  },
  {
   "cell_type": "code",
   "execution_count": 7,
   "id": "ee5dc851-50b0-48eb-91fa-a180f6ac370c",
   "metadata": {},
   "outputs": [
    {
     "name": "stdout",
     "output_type": "stream",
     "text": [
      "Done Reading the Database!\n",
      "Shape of users: (3555, 4)\n"
     ]
    }
   ],
   "source": [
    "## Making database connection\n",
    "\n",
    "HOST = os.environ.get('MYSQL_HOST')\n",
    "USER = os.environ.get('MYSQL_USER')\n",
    "PASSWORD = os.environ.get('MYSQL_PASSWORD')\n",
    "conn = pymysql.connect(\n",
    "    host=HOST,\n",
    "    user=USER,\n",
    "    password=PASSWORD,\n",
    "    db='mydb',\n",
    "    charset='utf8mb4',\n",
    "    cursorclass=pymysql.cursors.DictCursor)\n",
    "\n",
    "## Reading from database\n",
    "try:\n",
    "    with conn.cursor() as cursor:\n",
    "        cursor.execute(query)\n",
    "        rows = cursor.fetchall()\n",
    "        users = pd.DataFrame(rows)\n",
    "finally:\n",
    "    conn.close()\n",
    "    \n",
    "print('Done Reading the Database!')\n",
    "print(\"Shape of users:\", users.shape)\n",
    "del rows\n"
   ]
  },
  {
   "cell_type": "code",
   "execution_count": 8,
   "id": "280c144a-50f9-4c8f-bee2-7acf7680c6dc",
   "metadata": {},
   "outputs": [
    {
     "data": {
      "text/plain": [
       "(2881, 4)"
      ]
     },
     "execution_count": 8,
     "metadata": {},
     "output_type": "execute_result"
    }
   ],
   "source": [
    "# users['UserID'].nunique()\n",
    "# users.head()\n",
    "# users['ActivationPeriod'].max()\n",
    "# users[users['ActivationPeriod']<=224]['ActivationPeriod'].value_counts(normalize=True)\n",
    "users = users[users['ActivationPeriod']<=30]\n",
    "users.shape\n"
   ]
  },
  {
   "cell_type": "markdown",
   "id": "040d5597-6084-4ba4-90d0-aacce737a43a",
   "metadata": {},
   "source": [
    "## Creating Events DataFrame"
   ]
  },
  {
   "cell_type": "code",
   "execution_count": 9,
   "id": "459d6962-3fdd-440b-8ea1-70f230bdc89c",
   "metadata": {},
   "outputs": [
    {
     "data": {
      "text/plain": [
       "(2881, 3)"
      ]
     },
     "execution_count": 9,
     "metadata": {},
     "output_type": "execute_result"
    }
   ],
   "source": [
    "# Defining dataframe for the final result\n",
    "\n",
    "events = users[['UserID', 'JoinDate', 'ActivationDate']].copy()\n",
    "events.shape\n"
   ]
  },
  {
   "cell_type": "markdown",
   "id": "341a4539-fbb3-4a65-9bb4-c5f43ff08270",
   "metadata": {},
   "source": [
    "## Utility Function"
   ]
  },
  {
   "cell_type": "code",
   "execution_count": 10,
   "id": "aaf6e416-e4df-491e-a700-59e5ef029204",
   "metadata": {},
   "outputs": [],
   "source": [
    "# Function that makes a tuple of event, session, and time\n",
    "\n",
    "def tuplize(column, event, t=0):\n",
    "    if t == 0:\n",
    "        tup = (event, column['Time'])\n",
    "    else:\n",
    "        tup = (event, column['Time'], column['Category'], column['Name'], column['Price'])\n",
    "    return tup\n"
   ]
  },
  {
   "cell_type": "markdown",
   "id": "8aee50e3-2cf2-4b26-963f-b7f64fbddc5c",
   "metadata": {},
   "source": [
    "## Event Tables"
   ]
  },
  {
   "cell_type": "code",
   "execution_count": 11,
   "id": "15292c1c-7d94-4c59-8247-0fb06b4f7c1d",
   "metadata": {},
   "outputs": [],
   "source": [
    "\n",
    "# ClickHouse Database Settings\n",
    "HOST = os.environ.get(\"CLICKHOUSE_HOST\")\n",
    "PORT = 8123\n",
    "USER = os.environ.get(\"CLICKHOUSE_USERNAME\")\n",
    "PASSWORD = os.environ.get(\"CLICKHOUSE_PASSWORD\")\n",
    "DATABASE = os.environ[\"CLICKHOUSE_DATABASE\"]\n"
   ]
  },
  {
   "cell_type": "code",
   "execution_count": 12,
   "id": "d51829c4-d263-4de8-bf2d-aa5e94dee02e",
   "metadata": {},
   "outputs": [],
   "source": [
    "\n",
    "tables1 = ['advertisement_clicked', 'application_opened', 'application_updated', \n",
    "           'collection_clicked', 'first_order', 'product_list_filtered', 'product_list_viewed', \n",
    "           'products_searched', 'promotion_clicked', 'tooltip_clicked']\n",
    "tables2 = [ 'product_added_to_wishlist', 'product_clicked', 'product_image_download', \n",
    "            'product_shared', 'product_video_download', 'product_video_play']#, 'product_viewed']\n",
    "\n",
    "events1 = ['AddClick', 'AppOpen', 'AppUpdate', 'CollectionClick', 'FirstOrder', 'ProductListFilter', \n",
    "           'ProductListView', 'ProductSearch', 'PromotionClick', 'TooltipClick']\n",
    "events2 = ['ProductAddtoList', 'ProductClick', 'ProductImageDownload',\n",
    "                 'ProductShare', 'ProductVideoDownload', 'ProductVideoPlay']#, 'ProductView']\n",
    "\n",
    "tables = [tables1, tables2]\n",
    "ev = [events1, events2]\n"
   ]
  },
  {
   "cell_type": "code",
   "execution_count": 13,
   "id": "125652aa-6677-4176-bad2-9dc5ec4206c2",
   "metadata": {},
   "outputs": [
    {
     "name": "stdout",
     "output_type": "stream",
     "text": [
      "Events Reset!\n"
     ]
    }
   ],
   "source": [
    "\n",
    "events = pd.DataFrame(columns=['UserID', 'Session'])\n",
    "print(\"Events Reset!\")\n"
   ]
  },
  {
   "cell_type": "code",
   "execution_count": 14,
   "id": "17989073-d97c-4032-93b1-fd132263420f",
   "metadata": {},
   "outputs": [
    {
     "name": "stdout",
     "output_type": "stream",
     "text": [
      "\n",
      " 0 0 AddClick --- advertisement_clicked\n",
      "events after concat (239, 3)\n",
      "\n",
      " 0 1 AppOpen --- application_opened\n",
      "events after concat (223837, 3)\n",
      "\n",
      " 0 2 AppUpdate --- application_updated\n",
      "events after concat (224494, 3)\n",
      "\n",
      " 0 3 CollectionClick --- collection_clicked\n",
      "events after concat (233364, 3)\n",
      "\n",
      " 0 4 FirstOrder --- first_order\n",
      "events after concat (233668, 3)\n",
      "\n",
      " 0 5 ProductListFilter --- product_list_filtered\n",
      "events after concat (335137, 3)\n",
      "\n",
      " 0 6 ProductListView --- product_list_viewed\n",
      "events after concat (728008, 3)\n",
      "\n",
      " 0 7 ProductSearch --- products_searched\n",
      "events after concat (818326, 3)\n",
      "\n",
      " 0 8 PromotionClick --- promotion_clicked\n",
      "events after concat (830774, 3)\n",
      "\n",
      " 0 9 TooltipClick --- tooltip_clicked\n",
      "events after concat (833573, 3)\n",
      "\n",
      " 1 0 ProductAddtoList --- product_added_to_wishlist\n",
      "events after concat (857040, 3)\n",
      "\n",
      " 1 1 ProductClick --- product_clicked\n",
      "events after concat (1058270, 3)\n",
      "\n",
      " 1 2 ProductImageDownload --- product_image_download\n",
      "events after concat (1102088, 3)\n",
      "\n",
      " 1 3 ProductShare --- product_shared\n",
      "events after concat (1107828, 3)\n",
      "\n",
      " 1 4 ProductVideoDownload --- product_video_download\n",
      "events after concat (1116193, 3)\n",
      "\n",
      " 1 5 ProductVideoPlay --- product_video_play\n",
      "events after concat (1137558, 3)\n",
      "Done!\n"
     ]
    }
   ],
   "source": [
    "## Making database connection\n",
    "\n",
    "conn = clickhouse_connect.get_client(host=HOST, port=PORT, username=USER, \n",
    "                                         password=PASSWORD, secure=False)\n",
    "\n",
    "for i in range(len(tables)):\n",
    "    for j in range(len(tables[i])):\n",
    "        event = ev[i][j]\n",
    "        table = tables[i][j]\n",
    "        print('\\n', i, j, event,'---', table)\n",
    "        if i == 0:\n",
    "            query = \"\"\"SELECT user_id AS UserID, context_session_id AS Session, timestamp AS Time \n",
    "                    FROM {0} \n",
    "                    WHERE UserID IS NOT NULL AND notEmpty(UserID) = 1 AND UserID <> ''\n",
    "                    AND Session IS NOT NULL;\"\"\".format(table)\n",
    "            columns=['UserID', 'Session', 'Time']\n",
    "        \n",
    "        else:\n",
    "            query = \"\"\"SELECT user_id AS UserID, context_session_id AS Session, timestamp AS Time, \n",
    "                   category AS Category, name AS Name, price AS Price\n",
    "                   FROM {0}\n",
    "                   WHERE UserID IS NOT NULL AND notEmpty(UserID) = 1 AND UserID <> ''\n",
    "                   AND Session IS NOT NULL;\"\"\".format(table)\n",
    "            columns=['UserID', 'Session', 'Time', 'Category', 'Name', 'Price']\n",
    "        \n",
    "        result = conn.query(query)\n",
    "        rows = result.result_rows\n",
    "        df = pd.DataFrame(rows, columns=columns)\n",
    "\n",
    "        # Cleaning the UserID column\n",
    "        df = df[df['UserID'].str.isdecimal()]\n",
    "        df['UserID'] = df['UserID'].astype('int32')\n",
    "        df['Session'] = df['Session'].astype('int16')\n",
    "        \n",
    "        df = df[df['UserID'].isin(users['UserID'])]\n",
    "        df = pd.merge(users, df, on='UserID')\n",
    "        df = df[df['Time'] < df['ActivationDate']]\n",
    "        df['Event'] = df.apply(tuplize, t=i, event=event, axis=1)\n",
    "\n",
    "        events = pd.concat([events, df[['UserID', 'Session', 'Event']].copy()])\n",
    "        print('events after concat', events.shape)\n",
    "                   \n",
    "conn.close()    \n",
    "print(\"Done!\")\n"
   ]
  },
  {
   "cell_type": "code",
   "execution_count": 52,
   "id": "5ffea223-58d2-4402-8a9a-a8483cbde330",
   "metadata": {},
   "outputs": [
    {
     "data": {
      "text/plain": [
       "2826"
      ]
     },
     "execution_count": 52,
     "metadata": {},
     "output_type": "execute_result"
    }
   ],
   "source": [
    "events['UserID'].nunique()"
   ]
  },
  {
   "cell_type": "code",
   "execution_count": 53,
   "id": "5a24501d-9825-4917-bd00-831bc5f0c062",
   "metadata": {},
   "outputs": [
    {
     "data": {
      "text/html": [
       "<div>\n",
       "<style scoped>\n",
       "    .dataframe tbody tr th:only-of-type {\n",
       "        vertical-align: middle;\n",
       "    }\n",
       "\n",
       "    .dataframe tbody tr th {\n",
       "        vertical-align: top;\n",
       "    }\n",
       "\n",
       "    .dataframe thead th {\n",
       "        text-align: right;\n",
       "    }\n",
       "</style>\n",
       "<table border=\"1\" class=\"dataframe\">\n",
       "  <thead>\n",
       "    <tr style=\"text-align: right;\">\n",
       "      <th></th>\n",
       "      <th>UserID</th>\n",
       "      <th>Session</th>\n",
       "      <th>Event</th>\n",
       "    </tr>\n",
       "  </thead>\n",
       "  <tbody>\n",
       "    <tr>\n",
       "      <th>82040</th>\n",
       "      <td>396784</td>\n",
       "      <td>4689</td>\n",
       "      <td>(ProductVideoPlay, 2024-08-19 09:41:08, الكترو...</td>\n",
       "    </tr>\n",
       "    <tr>\n",
       "      <th>82041</th>\n",
       "      <td>396784</td>\n",
       "      <td>4689</td>\n",
       "      <td>(ProductVideoPlay, 2024-08-19 09:44:19, اجهزة ...</td>\n",
       "    </tr>\n",
       "    <tr>\n",
       "      <th>82042</th>\n",
       "      <td>396784</td>\n",
       "      <td>4689</td>\n",
       "      <td>(ProductVideoPlay, 2024-08-19 09:44:37, اجهزة ...</td>\n",
       "    </tr>\n",
       "    <tr>\n",
       "      <th>82043</th>\n",
       "      <td>396784</td>\n",
       "      <td>-26374</td>\n",
       "      <td>(ProductVideoPlay, 2024-08-19 19:20:54, الكترو...</td>\n",
       "    </tr>\n",
       "    <tr>\n",
       "      <th>82054</th>\n",
       "      <td>397305</td>\n",
       "      <td>-6602</td>\n",
       "      <td>(ProductVideoPlay, 2024-08-19 19:18:43, اجهزة ...</td>\n",
       "    </tr>\n",
       "  </tbody>\n",
       "</table>\n",
       "</div>"
      ],
      "text/plain": [
       "       UserID Session                                              Event\n",
       "82040  396784    4689  (ProductVideoPlay, 2024-08-19 09:41:08, الكترو...\n",
       "82041  396784    4689  (ProductVideoPlay, 2024-08-19 09:44:19, اجهزة ...\n",
       "82042  396784    4689  (ProductVideoPlay, 2024-08-19 09:44:37, اجهزة ...\n",
       "82043  396784  -26374  (ProductVideoPlay, 2024-08-19 19:20:54, الكترو...\n",
       "82054  397305   -6602  (ProductVideoPlay, 2024-08-19 19:18:43, اجهزة ..."
      ]
     },
     "execution_count": 53,
     "metadata": {},
     "output_type": "execute_result"
    }
   ],
   "source": [
    "events.tail()"
   ]
  },
  {
   "cell_type": "markdown",
   "id": "997ed48e-3009-4bcc-a80d-bdfcd981492b",
   "metadata": {},
   "source": [
    "## Reading product_viwed separately because of its size"
   ]
  },
  {
   "cell_type": "code",
   "execution_count": 15,
   "id": "19b05476-05be-4534-ba5a-150472b9381b",
   "metadata": {},
   "outputs": [],
   "source": [
    "\n",
    "# query= \"\"\"select toInt64(product_viewed.user_id) AS PID, users_be.CreatedAt, FirstOrder.FirstOrderAt,\n",
    "#     context_session_id AS Session, timestamp AS Time, category AS Category, name AS Name, price AS Price, \n",
    "#     toInt64(users_be.ID) AS UID, toInt64(FirstOrder.ID) AS FID\n",
    "#     FROM product_viewed \n",
    "#     JOIN users_be ON UID= PID\n",
    "#     JOIN `user_first_orders` AS FirstOrder ON PID = FID\n",
    "#     WHERE (users_be.CreatedAt >= toDateTime('2024-01-01')) \n",
    "#         AND Session IS NOT NULL\n",
    "#         AND Time < FirstOrder.FirstOrderAt;\"\"\"\n",
    "\n",
    "query= \"\"\"with my as (select toInt64(product_viewed.user_id) AS UserID, context_session_id AS Session, timestamp AS Time, FirstOrder.FirstOrderAt\n",
    "\n",
    "    FROM product_viewed \n",
    "    JOIN users_be ON toInt64(users_be.ID)= toInt64(product_viewed.user_id)\n",
    "    JOIN `user_first_orders` AS FirstOrder ON toInt64(product_viewed.user_id) = toInt64(FirstOrder.ID)\n",
    "    WHERE (users_be.CreatedAt >= toDateTime('2024-01-01')) \n",
    "        AND Session IS NOT NULL\n",
    "        AND Time < FirstOrder.FirstOrderAt)\n",
    "           \n",
    "select distinct * from my;\"\"\"\n",
    "    "
   ]
  },
  {
   "cell_type": "code",
   "execution_count": 16,
   "id": "1e2c325b-60ee-4f2d-90bc-388a1e378731",
   "metadata": {},
   "outputs": [
    {
     "name": "stdout",
     "output_type": "stream",
     "text": [
      "events after concat (3125526, 3)\n",
      "Done!\n"
     ]
    }
   ],
   "source": [
    "\n",
    "# Define your ClickHouse connection parameters\n",
    "host = os.environ[\"CLICKHOUSE_HOST\"]\n",
    "port = 8123  # Default ClickHouse port, change if necessary\n",
    "username = os.environ[\"CLICKHOUSE_USERNAME\"]\n",
    "password = os.environ[\"CLICKHOUSE_PASSWORD\"]\n",
    "database = os.environ[\"CLICKHOUSE_DATABASE\"]\n",
    "\n",
    "## Making database connection\n",
    "conn = clickhouse_connect.get_client(host=HOST, port=PORT, username=USER, \n",
    "                                         password=PASSWORD, secure=False)\n",
    "event = 'ProductView'\n",
    "# columns=['UserID', 'JoinDate', 'ActivationDate', 'Session', 'Time', 'Category', 'Name', 'Price', 'UID', 'FID']\n",
    "columns=['UserID', 'Session', 'Time', 'ActivationDate']\n",
    "\n",
    "result = conn.query(query)\n",
    "rows = result.result_rows\n",
    "df = pd.DataFrame(rows, columns=columns)\n",
    "\n",
    "# Cleaning the UserID column\n",
    "df['UserID'] = df['UserID'].astype('int32')\n",
    "df['Session'] = df['Session'].astype('int16')\n",
    "\n",
    "df = df[df['UserID'].isin(users['UserID'])]\n",
    "df['Event'] = df.apply(tuplize, t=0, event=event, axis=1)\n",
    "\n",
    "events = pd.concat([events, df[['UserID', 'Session', 'Event']].copy()])\n",
    "print('events after concat', events.shape)\n",
    "           \n",
    "conn.close()\n",
    "events.reset_index(inplace=True, drop=True)\n",
    "del df\n",
    "print(\"Done!\")      \n"
   ]
  },
  {
   "cell_type": "markdown",
   "id": "25dd3cbd-f54f-4efe-a336-7936e21a3e14",
   "metadata": {},
   "source": [
    "## Pickling the events dataframe"
   ]
  },
  {
   "cell_type": "code",
   "execution_count": 17,
   "id": "f96eb43d-ea98-4f5c-b417-a0b9b0d3c322",
   "metadata": {},
   "outputs": [
    {
     "name": "stdout",
     "output_type": "stream",
     "text": [
      "finish\n"
     ]
    }
   ],
   "source": [
    "\n",
    "events.to_pickle(\"events.pkl\")\n",
    "print('finish')\n"
   ]
  },
  {
   "cell_type": "code",
   "execution_count": 18,
   "id": "264cfb41-59e7-4334-990d-6891906ec130",
   "metadata": {},
   "outputs": [],
   "source": [
    "# events = pd.read_pickle(\"events.pkl\")\n",
    "# print(\"Shape of events:\", events.shape)"
   ]
  },
  {
   "cell_type": "markdown",
   "id": "69f40ff8-56f4-416b-95a3-be27e65bd0bd",
   "metadata": {},
   "source": [
    "## Event per User per Session"
   ]
  },
  {
   "cell_type": "code",
   "execution_count": 19,
   "id": "aff4668d-15c2-4b5e-841a-3376581b8507",
   "metadata": {},
   "outputs": [
    {
     "data": {
      "text/plain": [
       "(50985, 4)"
      ]
     },
     "execution_count": 19,
     "metadata": {},
     "output_type": "execute_result"
    }
   ],
   "source": [
    "\n",
    "group = events.groupby(['UserID', 'Session']).agg(lambda x: sorted(list(x), key=lambda tup: tup[1]))\n",
    "group['Lens'] = group['Event'].apply(len)\n",
    "group.sort_values(by=['Lens'], inplace=True)\n",
    "group.reset_index(inplace=True)\n",
    "group.shape\n"
   ]
  },
  {
   "cell_type": "code",
   "execution_count": 84,
   "id": "51af0714-cf41-4be4-9703-4d8f999e32bc",
   "metadata": {},
   "outputs": [
    {
     "data": {
      "text/html": [
       "<div>\n",
       "<style scoped>\n",
       "    .dataframe tbody tr th:only-of-type {\n",
       "        vertical-align: middle;\n",
       "    }\n",
       "\n",
       "    .dataframe tbody tr th {\n",
       "        vertical-align: top;\n",
       "    }\n",
       "\n",
       "    .dataframe thead th {\n",
       "        text-align: right;\n",
       "    }\n",
       "</style>\n",
       "<table border=\"1\" class=\"dataframe\">\n",
       "  <thead>\n",
       "    <tr style=\"text-align: right;\">\n",
       "      <th></th>\n",
       "      <th>UserID</th>\n",
       "      <th>Session</th>\n",
       "      <th>Event</th>\n",
       "      <th>Lens</th>\n",
       "    </tr>\n",
       "  </thead>\n",
       "  <tbody>\n",
       "    <tr>\n",
       "      <th>0</th>\n",
       "      <td>394346</td>\n",
       "      <td>-19340</td>\n",
       "      <td>[(AppOpen, 2024-08-15 07:55:33)]</td>\n",
       "      <td>1</td>\n",
       "    </tr>\n",
       "    <tr>\n",
       "      <th>1</th>\n",
       "      <td>331514</td>\n",
       "      <td>32121</td>\n",
       "      <td>[(ProductView, 2024-04-29 10:59:08)]</td>\n",
       "      <td>1</td>\n",
       "    </tr>\n",
       "    <tr>\n",
       "      <th>2</th>\n",
       "      <td>332255</td>\n",
       "      <td>-31079</td>\n",
       "      <td>[(ProductView, 2024-04-23 10:00:20)]</td>\n",
       "      <td>1</td>\n",
       "    </tr>\n",
       "    <tr>\n",
       "      <th>3</th>\n",
       "      <td>332255</td>\n",
       "      <td>-30807</td>\n",
       "      <td>[(ProductView, 2024-06-11 17:44:20)]</td>\n",
       "      <td>1</td>\n",
       "    </tr>\n",
       "    <tr>\n",
       "      <th>4</th>\n",
       "      <td>329605</td>\n",
       "      <td>5476</td>\n",
       "      <td>[(ProductView, 2024-06-09 21:01:03)]</td>\n",
       "      <td>1</td>\n",
       "    </tr>\n",
       "  </tbody>\n",
       "</table>\n",
       "</div>"
      ],
      "text/plain": [
       "   UserID  Session                                 Event  Lens\n",
       "0  394346   -19340      [(AppOpen, 2024-08-15 07:55:33)]     1\n",
       "1  331514    32121  [(ProductView, 2024-04-29 10:59:08)]     1\n",
       "2  332255   -31079  [(ProductView, 2024-04-23 10:00:20)]     1\n",
       "3  332255   -30807  [(ProductView, 2024-06-11 17:44:20)]     1\n",
       "4  329605     5476  [(ProductView, 2024-06-09 21:01:03)]     1"
      ]
     },
     "execution_count": 84,
     "metadata": {},
     "output_type": "execute_result"
    }
   ],
   "source": [
    "group.head()\n",
    "# group.iloc[14000,2]"
   ]
  },
  {
   "cell_type": "code",
   "execution_count": 20,
   "id": "4c95a551-b29c-444b-a3f4-559dcdb6e409",
   "metadata": {},
   "outputs": [],
   "source": [
    "def sequence(row):\n",
    "    seq = [tup[0] for tup in row['Event']]\n",
    "    return seq"
   ]
  },
  {
   "cell_type": "code",
   "execution_count": 21,
   "id": "53a8ee5d-0fa6-424e-9d28-66629845e95e",
   "metadata": {},
   "outputs": [],
   "source": [
    "group['Sequence'] = group.apply(sequence, axis=1)"
   ]
  },
  {
   "cell_type": "code",
   "execution_count": 22,
   "id": "1f30864d-274b-4fcc-a4b1-b573e379d4c6",
   "metadata": {},
   "outputs": [],
   "source": [
    "from itertools import groupby as gr\n",
    "\n",
    "def deduplicate(row):\n",
    "    return [key for key, _group in gr(row['Sequence'])]\n",
    "\n",
    "group['CleanSequence'] = group.apply(deduplicate, axis=1)\n",
    "group['lenClean'] = group['CleanSequence'].apply(len)\n",
    "group = group[(group['lenClean']>4) & (group['lenClean'] < 20)]\n",
    "\n",
    "# group['lenClean'].value_counts(normalize=True)\n"
   ]
  },
  {
   "cell_type": "code",
   "execution_count": 23,
   "id": "319a6358-511d-437c-ae56-25ee287b98cc",
   "metadata": {},
   "outputs": [
    {
     "data": {
      "text/plain": [
       "(11949, 7)"
      ]
     },
     "execution_count": 23,
     "metadata": {},
     "output_type": "execute_result"
    }
   ],
   "source": [
    "group.shape\n"
   ]
  },
  {
   "cell_type": "code",
   "execution_count": 24,
   "id": "1b280d63-39ea-444a-9a5c-89d214d1b1c6",
   "metadata": {},
   "outputs": [],
   "source": [
    "# group[group['lenClean']<100]['lenClean'].hist()\n",
    "vs = pd.DataFrame(group[group['lenClean']<50]['lenClean'].value_counts(normalize=True)).reset_index()\n",
    "# vs.sort_values(by=['lenClean'], inplace=True)\n",
    "# vs.columns\n"
   ]
  },
  {
   "cell_type": "code",
   "execution_count": 25,
   "id": "64e6a2d4-567f-4609-b1f0-5a2449fd5663",
   "metadata": {},
   "outputs": [],
   "source": [
    "\n",
    "divent = {'AddClick': 'A', 'AppOpen': 'B', 'AppUpdate': 'C', 'CollectionClick': 'D', 'FirstOrder': 'E', \n",
    "          'ProductAddtoList': 'F', 'ProductClick': 'G', 'ProductImageDownload': 'H', \n",
    "          'ProductListFilter': 'I', 'ProductListView': 'J', 'ProductShare': 'K', \n",
    "          'ProductSearch': 'L', 'ProductVideoDownload': 'M', 'ProductVideoPlay': 'N', \n",
    "          'ProductView': 'O', 'PromotionClick': 'P', 'TooltipClick': 'Q'}\n",
    "          "
   ]
  },
  {
   "cell_type": "code",
   "execution_count": 26,
   "id": "4a0169d2-4b3d-4a56-ac6a-f7e9d9eba455",
   "metadata": {},
   "outputs": [
    {
     "data": {
      "text/html": [
       "<div>\n",
       "<style scoped>\n",
       "    .dataframe tbody tr th:only-of-type {\n",
       "        vertical-align: middle;\n",
       "    }\n",
       "\n",
       "    .dataframe tbody tr th {\n",
       "        vertical-align: top;\n",
       "    }\n",
       "\n",
       "    .dataframe thead th {\n",
       "        text-align: right;\n",
       "    }\n",
       "</style>\n",
       "<table border=\"1\" class=\"dataframe\">\n",
       "  <thead>\n",
       "    <tr style=\"text-align: right;\">\n",
       "      <th></th>\n",
       "      <th>UserID</th>\n",
       "      <th>Session</th>\n",
       "      <th>Event</th>\n",
       "      <th>Lens</th>\n",
       "      <th>Sequence</th>\n",
       "      <th>CleanSequence</th>\n",
       "      <th>lenClean</th>\n",
       "      <th>Vec</th>\n",
       "    </tr>\n",
       "  </thead>\n",
       "  <tbody>\n",
       "    <tr>\n",
       "      <th>8939</th>\n",
       "      <td>376713</td>\n",
       "      <td>5129</td>\n",
       "      <td>[(AppOpen, 2024-07-16 06:32:46), (ProductListV...</td>\n",
       "      <td>5</td>\n",
       "      <td>[AppOpen, ProductListView, ProductView, Produc...</td>\n",
       "      <td>[AppOpen, ProductListView, ProductView, Produc...</td>\n",
       "      <td>5</td>\n",
       "      <td>BJOGH</td>\n",
       "    </tr>\n",
       "    <tr>\n",
       "      <th>8948</th>\n",
       "      <td>342268</td>\n",
       "      <td>-6673</td>\n",
       "      <td>[(ProductView, 2024-05-02 19:13:55), (ProductL...</td>\n",
       "      <td>5</td>\n",
       "      <td>[ProductView, ProductListView, ProductView, Pr...</td>\n",
       "      <td>[ProductView, ProductListView, ProductView, Pr...</td>\n",
       "      <td>5</td>\n",
       "      <td>OJOGN</td>\n",
       "    </tr>\n",
       "    <tr>\n",
       "      <th>8952</th>\n",
       "      <td>359427</td>\n",
       "      <td>-22507</td>\n",
       "      <td>[(AppOpen, 2024-06-06 12:14:15), (ProductListV...</td>\n",
       "      <td>5</td>\n",
       "      <td>[AppOpen, ProductListView, ProductClick, Produ...</td>\n",
       "      <td>[AppOpen, ProductListView, ProductClick, Produ...</td>\n",
       "      <td>5</td>\n",
       "      <td>BJGNM</td>\n",
       "    </tr>\n",
       "    <tr>\n",
       "      <th>8962</th>\n",
       "      <td>269098</td>\n",
       "      <td>-3931</td>\n",
       "      <td>[(AppOpen, 2024-03-09 23:28:38), (ProductListV...</td>\n",
       "      <td>5</td>\n",
       "      <td>[AppOpen, ProductListView, ProductView, Produc...</td>\n",
       "      <td>[AppOpen, ProductListView, ProductView, Produc...</td>\n",
       "      <td>5</td>\n",
       "      <td>BJOJB</td>\n",
       "    </tr>\n",
       "    <tr>\n",
       "      <th>8969</th>\n",
       "      <td>271211</td>\n",
       "      <td>24817</td>\n",
       "      <td>[(AppOpen, 2024-02-21 20:47:06), (ProductListV...</td>\n",
       "      <td>5</td>\n",
       "      <td>[AppOpen, ProductListView, ProductView, Produc...</td>\n",
       "      <td>[AppOpen, ProductListView, ProductView, Produc...</td>\n",
       "      <td>5</td>\n",
       "      <td>BJOJB</td>\n",
       "    </tr>\n",
       "  </tbody>\n",
       "</table>\n",
       "</div>"
      ],
      "text/plain": [
       "      UserID  Session                                              Event  \\\n",
       "8939  376713     5129  [(AppOpen, 2024-07-16 06:32:46), (ProductListV...   \n",
       "8948  342268    -6673  [(ProductView, 2024-05-02 19:13:55), (ProductL...   \n",
       "8952  359427   -22507  [(AppOpen, 2024-06-06 12:14:15), (ProductListV...   \n",
       "8962  269098    -3931  [(AppOpen, 2024-03-09 23:28:38), (ProductListV...   \n",
       "8969  271211    24817  [(AppOpen, 2024-02-21 20:47:06), (ProductListV...   \n",
       "\n",
       "      Lens                                           Sequence  \\\n",
       "8939     5  [AppOpen, ProductListView, ProductView, Produc...   \n",
       "8948     5  [ProductView, ProductListView, ProductView, Pr...   \n",
       "8952     5  [AppOpen, ProductListView, ProductClick, Produ...   \n",
       "8962     5  [AppOpen, ProductListView, ProductView, Produc...   \n",
       "8969     5  [AppOpen, ProductListView, ProductView, Produc...   \n",
       "\n",
       "                                          CleanSequence  lenClean    Vec  \n",
       "8939  [AppOpen, ProductListView, ProductView, Produc...         5  BJOGH  \n",
       "8948  [ProductView, ProductListView, ProductView, Pr...         5  OJOGN  \n",
       "8952  [AppOpen, ProductListView, ProductClick, Produ...         5  BJGNM  \n",
       "8962  [AppOpen, ProductListView, ProductView, Produc...         5  BJOJB  \n",
       "8969  [AppOpen, ProductListView, ProductView, Produc...         5  BJOJB  "
      ]
     },
     "execution_count": 26,
     "metadata": {},
     "output_type": "execute_result"
    }
   ],
   "source": [
    "\n",
    "def alphabetize(column):\n",
    "    replacer = divent.get\n",
    "    vec = [replacer(n, n) for n in column['Sequence']]\n",
    "    st = \"\".join(vec)\n",
    "    return st\n",
    "\n",
    "group['Vec'] = group.apply(alphabetize, axis=1)\n",
    "group.head()"
   ]
  },
  {
   "cell_type": "code",
   "execution_count": 27,
   "id": "5ae934be-99a8-4673-ad8b-844e4f6cefd5",
   "metadata": {},
   "outputs": [
    {
     "name": "stdout",
     "output_type": "stream",
     "text": [
      "finish\n"
     ]
    }
   ],
   "source": [
    "group.to_pickle(\"group.pkl\")\n",
    "print('finish')\n"
   ]
  },
  {
   "cell_type": "code",
   "execution_count": 107,
   "id": "6cc8f49b-4e84-4973-b684-63c5ba46d0b3",
   "metadata": {},
   "outputs": [],
   "source": [
    "\n",
    "def levenshtein(a,b):\n",
    "    \"Calculates the Levenshtein distance between a and b.\"\n",
    "    n, m = len(a), len(b)\n",
    "    if n > m:\n",
    "        # Make sure n <= m, to use O(min(n,m)) space\n",
    "        a,b = b,a\n",
    "        n,m = m,n\n",
    "    current = range(n+1)\n",
    "    for i in range(1,m+1):\n",
    "        previous, current = current, [i]+[0]*n\n",
    "        for j in range(1,n+1):\n",
    "            add, delete = previous[j]+1, current[j-1]+1\n",
    "            change = previous[j-1]\n",
    "            if a[j-1] != b[i-1]:\n",
    "                change = change + 1\n",
    "            current[j] = min(add, delete, change) \n",
    "    return current[n]\n"
   ]
  },
  {
   "cell_type": "code",
   "execution_count": null,
   "id": "5da7ba5b-37f4-4201-8369-9afaae054029",
   "metadata": {},
   "outputs": [],
   "source": [
    "instanceKm = kmeans(X, initial_centers=initial_centers, metric=distance_metric(dist_measure))"
   ]
  },
  {
   "cell_type": "code",
   "execution_count": null,
   "id": "22fe56a0-6f4b-402e-b228-6ffc551d6315",
   "metadata": {},
   "outputs": [],
   "source": []
  }
 ],
 "metadata": {
  "kernelspec": {
   "display_name": "Python 3 (ipykernel)",
   "language": "python",
   "name": "python3"
  },
  "language_info": {
   "codemirror_mode": {
    "name": "ipython",
    "version": 3
   },
   "file_extension": ".py",
   "mimetype": "text/x-python",
   "name": "python",
   "nbconvert_exporter": "python",
   "pygments_lexer": "ipython3",
   "version": "3.10.0"
  }
 },
 "nbformat": 4,
 "nbformat_minor": 5
}
