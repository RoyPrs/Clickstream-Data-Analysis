{
 "cells": [
  {
   "cell_type": "code",
   "execution_count": 1,
   "id": "0a0a8b25-58a1-4e97-b983-151f3b752488",
   "metadata": {},
   "outputs": [],
   "source": [
    "\n",
    "import os\n",
    "import clickhouse_connect\n",
    "import pymysql\n",
    "\n",
    "from datetime import datetime\n",
    "import pandas as pd\n",
    "import numpy as np\n"
   ]
  },
  {
   "cell_type": "markdown",
   "id": "4fd80174-4546-4312-982d-bc1e9033d57e",
   "metadata": {},
   "source": [
    "## Reading Users from database"
   ]
  },
  {
   "cell_type": "code",
   "execution_count": 3,
   "id": "b65d86df-14de-4f09-8c94-cdb699a3a9e6",
   "metadata": {},
   "outputs": [],
   "source": [
    "query = \"\"\"SELECT\n",
    "  users.ID AS UserID,\n",
    "  users.CreatedAt AS JoinDate,\n",
    "  FirstOrder.FirstOrderAt AS ActivationDate,\n",
    "  DATEDIFF(FirstOrder.FirstOrderAt, users.CreatedAt) AS ActivationPeriod\n",
    "FROM\n",
    "  users\n",
    "  LEFT JOIN `vw_users_first_order` AS FirstOrder ON users.ID = FirstOrder.UserID\n",
    "  WHERE users.CreatedAt >= timestamp '2023-08-01 00:00:00.000' AND DATEDIFF(FirstOrder.FirstOrderAt, users.CreatedAt) =0\"\"\"\n"
   ]
  },
  {
   "cell_type": "code",
   "execution_count": 4,
   "id": "ee5dc851-50b0-48eb-91fa-a180f6ac370c",
   "metadata": {},
   "outputs": [
    {
     "name": "stdout",
     "output_type": "stream",
     "text": [
      "Done Reading the Database!\n",
      "Shape of users: (1305, 4)\n"
     ]
    }
   ],
   "source": [
    "## Making database connection\n",
    "\n",
    "HOST = os.environ.get('MYSQL_HOST')\n",
    "USER = os.environ.get('MYSQL_USER')\n",
    "PASSWORD = os.environ.get('MYSQL_PASSWORD')\n",
    "conn = pymysql.connect(\n",
    "    host=HOST,\n",
    "    user=USER,\n",
    "    password=PASSWORD,\n",
    "    db='mydb',\n",
    "    charset='utf8mb4',\n",
    "    cursorclass=pymysql.cursors.DictCursor)\n",
    "\n",
    "## Reading from database\n",
    "try:\n",
    "    with conn.cursor() as cursor:\n",
    "        cursor.execute(query)\n",
    "        rows = cursor.fetchall()\n",
    "        users = pd.DataFrame(rows)\n",
    "finally:\n",
    "    conn.close()\n",
    "    \n",
    "print('Done Reading the Database!')\n",
    "print(\"Shape of users:\", users.shape)\n",
    "del rows\n"
   ]
  },
  {
   "cell_type": "code",
   "execution_count": 4,
   "id": "280c144a-50f9-4c8f-bee2-7acf7680c6dc",
   "metadata": {},
   "outputs": [
    {
     "data": {
      "text/plain": [
       "1295"
      ]
     },
     "execution_count": 4,
     "metadata": {},
     "output_type": "execute_result"
    }
   ],
   "source": [
    "users['UserID'].nunique()"
   ]
  },
  {
   "cell_type": "markdown",
   "id": "040d5597-6084-4ba4-90d0-aacce737a43a",
   "metadata": {},
   "source": [
    "## Creating Events DataFrame"
   ]
  },
  {
   "cell_type": "code",
   "execution_count": 5,
   "id": "459d6962-3fdd-440b-8ea1-70f230bdc89c",
   "metadata": {},
   "outputs": [],
   "source": [
    "# Defining dataframe for the final result\n",
    "\n",
    "events = users[['UserID', 'JoinDate', 'ActivationDate']].copy()\n"
   ]
  },
  {
   "cell_type": "markdown",
   "id": "341a4539-fbb3-4a65-9bb4-c5f43ff08270",
   "metadata": {},
   "source": [
    "## Utility Function"
   ]
  },
  {
   "cell_type": "code",
   "execution_count": 6,
   "id": "aaf6e416-e4df-491e-a700-59e5ef029204",
   "metadata": {},
   "outputs": [],
   "source": [
    "# Function that makes a tuple of event, session, and time\n",
    "\n",
    "def tuplize(column, event, t=0):\n",
    "    if t == 0:\n",
    "        tup = (event, column['Session'], column['Time'])\n",
    "    else:\n",
    "        tup = (event, column['Session'], column['Time'], column['Category'], column['Name'], column['Price'])\n",
    "    return tup\n"
   ]
  },
  {
   "cell_type": "markdown",
   "id": "8aee50e3-2cf2-4b26-963f-b7f64fbddc5c",
   "metadata": {},
   "source": [
    "## Event Tables"
   ]
  },
  {
   "cell_type": "code",
   "execution_count": 7,
   "id": "15292c1c-7d94-4c59-8247-0fb06b4f7c1d",
   "metadata": {},
   "outputs": [],
   "source": [
    "\n",
    "# ClickHouse Database Settings\n",
    "HOST = os.environ.get(\"CLICKHOUSE_HOST\")\n",
    "PORT = 8123\n",
    "USER = os.environ.get(\"CLICKHOUSE_USERNAME\")\n",
    "PASSWORD = os.environ.get(\"CLICKHOUSE_PASSWORD\")\n",
    "DATABASE = os.environ[\"CLICKHOUSE_DATABASE\"]\n"
   ]
  },
  {
   "cell_type": "code",
   "execution_count": 8,
   "id": "d51829c4-d263-4de8-bf2d-aa5e94dee02e",
   "metadata": {},
   "outputs": [],
   "source": [
    "\n",
    "tables1 = ['advertisement_clicked', 'application_opened', 'application_updated', \n",
    "           'collection_clicked', 'first_order', 'product_list_filtered', 'product_list_viewed', \n",
    "           'products_searched', 'promotion_clicked', 'tooltip_clicked']\n",
    "tables2 = [ 'product_added_to_wishlist', 'product_clicked', 'product_image_download', \n",
    "            'product_shared', 'product_video_download', 'product_video_play']#, 'product_viewed']\n",
    "\n",
    "events1 = ['AddClick', 'AppOpen', 'AppUpdate', 'CollectionClick', 'FirstOrder', 'ProductListFilter', \n",
    "           'ProductListView', 'ProductSearch', 'PromotionClick', 'TooltipClick']\n",
    "events2 = ['ProductAddtoList', 'ProductClick', 'ProductImageDownload',\n",
    "                 'ProductShare', 'ProductVideoDownload', 'ProductVideoPlay']#, 'ProductView']\n",
    "\n",
    "tables = [tables1, tables2]\n",
    "ev = [events1, events2]\n"
   ]
  },
  {
   "cell_type": "code",
   "execution_count": 9,
   "id": "125652aa-6677-4176-bad2-9dc5ec4206c2",
   "metadata": {},
   "outputs": [
    {
     "name": "stdout",
     "output_type": "stream",
     "text": [
      "Events Reset!\n"
     ]
    }
   ],
   "source": [
    "\n",
    "events = pd.DataFrame(columns=['UserID', 'Session'])\n",
    "print(\"Events Reset!\")\n"
   ]
  },
  {
   "cell_type": "code",
   "execution_count": 10,
   "id": "17989073-d97c-4032-93b1-fd132263420f",
   "metadata": {},
   "outputs": [
    {
     "name": "stdout",
     "output_type": "stream",
     "text": [
      "\n",
      " 0 0 AddClick --- advertisement_clicked\n",
      "events after concat (9, 3)\n",
      "\n",
      " 0 1 AppOpen --- application_opened\n",
      "events after concat (12505, 3)\n",
      "\n",
      " 0 2 AppUpdate --- application_updated\n",
      "events after concat (12508, 3)\n",
      "\n",
      " 0 3 CollectionClick --- collection_clicked\n",
      "events after concat (13093, 3)\n",
      "\n",
      " 0 4 FirstOrder --- first_order\n",
      "events after concat (13175, 3)\n",
      "\n",
      " 0 5 ProductListFilter --- product_list_filtered\n",
      "events after concat (20694, 3)\n",
      "\n",
      " 0 6 ProductListView --- product_list_viewed\n",
      "events after concat (50372, 3)\n",
      "\n",
      " 0 7 ProductSearch --- products_searched\n",
      "events after concat (55738, 3)\n",
      "\n",
      " 0 8 PromotionClick --- promotion_clicked\n",
      "events after concat (56456, 3)\n",
      "\n",
      " 0 9 TooltipClick --- tooltip_clicked\n",
      "events after concat (56847, 3)\n",
      "\n",
      " 1 0 ProductAddtoList --- product_added_to_wishlist\n",
      "events after concat (58070, 3)\n",
      "\n",
      " 1 1 ProductClick --- product_clicked\n",
      "events after concat (72327, 3)\n",
      "\n",
      " 1 2 ProductImageDownload --- product_image_download\n",
      "events after concat (73737, 3)\n",
      "\n",
      " 1 3 ProductShare --- product_shared\n",
      "events after concat (74880, 3)\n",
      "\n",
      " 1 4 ProductVideoDownload --- product_video_download\n",
      "events after concat (74993, 3)\n",
      "\n",
      " 1 5 ProductVideoPlay --- product_video_play\n",
      "events after concat (75823, 3)\n",
      "Done!\n"
     ]
    }
   ],
   "source": [
    "## Making database connection\n",
    "\n",
    "conn = clickhouse_connect.get_client(host=HOST, port=PORT, username=USER, \n",
    "                                         password=PASSWORD, secure=False)\n",
    "\n",
    "for i in range(len(tables)):\n",
    "    for j in range(len(tables[i])):\n",
    "        event = ev[i][j]\n",
    "        table = tables[i][j]\n",
    "        print('\\n', i, j, event,'---', table)\n",
    "        if i == 0:\n",
    "            query = \"\"\"SELECT user_id AS UserID, context_session_id AS Session, timestamp AS Time \n",
    "                    FROM {0} \n",
    "                    WHERE UserID IS NOT NULL AND notEmpty(UserID) = 1 AND UserID <> ''\n",
    "                    AND Session IS NOT NULL;\"\"\".format(table)\n",
    "            columns=['UserID', 'Session', 'Time']\n",
    "        \n",
    "        else:\n",
    "            query = \"\"\"SELECT user_id AS UserID, context_session_id AS Session, timestamp AS Time, \n",
    "                   category AS Category, name AS Name, price AS Price\n",
    "                   FROM {0}\n",
    "                   WHERE UserID IS NOT NULL AND notEmpty(UserID) = 1 AND UserID <> ''\n",
    "                   AND Session IS NOT NULL;\"\"\".format(table)\n",
    "            columns=['UserID', 'Session', 'Time', 'Category', 'Name', 'Price']\n",
    "        \n",
    "        result = conn.query(query)\n",
    "        rows = result.result_rows\n",
    "        df = pd.DataFrame(rows, columns=columns)\n",
    "\n",
    "        # Cleaning the UserID column\n",
    "        df = df[df['UserID'].str.isdecimal()]\n",
    "        df['UserID'] = df['UserID'].astype('int32')\n",
    "        df['Session'] = df['Session'].astype('int16')\n",
    "        \n",
    "        df = df[df['UserID'].isin(users['UserID'])]\n",
    "        df = pd.merge(users, df, on='UserID')\n",
    "        df.query(\"Time < ActivationDate\", inplace=True)\n",
    "        df['Event'] = df.apply(tuplize, t=i, event=event, axis=1)\n",
    "\n",
    "        events = pd.concat([events, df[['UserID', 'Session', 'Event']].copy()])\n",
    "        print('events after concat', events.shape)\n",
    "                   \n",
    "conn.close()    \n",
    "print(\"Done!\")\n"
   ]
  },
  {
   "cell_type": "code",
   "execution_count": 11,
   "id": "5ffea223-58d2-4402-8a9a-a8483cbde330",
   "metadata": {},
   "outputs": [
    {
     "data": {
      "text/plain": [
       "1230"
      ]
     },
     "execution_count": 11,
     "metadata": {},
     "output_type": "execute_result"
    }
   ],
   "source": [
    "events['UserID'].nunique()"
   ]
  },
  {
   "cell_type": "code",
   "execution_count": 12,
   "id": "5a24501d-9825-4917-bd00-831bc5f0c062",
   "metadata": {},
   "outputs": [
    {
     "data": {
      "text/html": [
       "<div>\n",
       "<style scoped>\n",
       "    .dataframe tbody tr th:only-of-type {\n",
       "        vertical-align: middle;\n",
       "    }\n",
       "\n",
       "    .dataframe tbody tr th {\n",
       "        vertical-align: top;\n",
       "    }\n",
       "\n",
       "    .dataframe thead th {\n",
       "        text-align: right;\n",
       "    }\n",
       "</style>\n",
       "<table border=\"1\" class=\"dataframe\">\n",
       "  <thead>\n",
       "    <tr style=\"text-align: right;\">\n",
       "      <th></th>\n",
       "      <th>UserID</th>\n",
       "      <th>Session</th>\n",
       "      <th>Event</th>\n",
       "    </tr>\n",
       "  </thead>\n",
       "  <tbody>\n",
       "    <tr>\n",
       "      <th>9229</th>\n",
       "      <td>393825</td>\n",
       "      <td>-420</td>\n",
       "      <td>(ProductVideoPlay, -420, 2024-08-12 12:27:42, ...</td>\n",
       "    </tr>\n",
       "    <tr>\n",
       "      <th>9230</th>\n",
       "      <td>393825</td>\n",
       "      <td>-420</td>\n",
       "      <td>(ProductVideoPlay, -420, 2024-08-12 12:29:10, ...</td>\n",
       "    </tr>\n",
       "    <tr>\n",
       "      <th>9231</th>\n",
       "      <td>393825</td>\n",
       "      <td>-420</td>\n",
       "      <td>(ProductVideoPlay, -420, 2024-08-12 12:29:15, ...</td>\n",
       "    </tr>\n",
       "    <tr>\n",
       "      <th>9232</th>\n",
       "      <td>393825</td>\n",
       "      <td>-420</td>\n",
       "      <td>(ProductVideoPlay, -420, 2024-08-12 12:36:45, ...</td>\n",
       "    </tr>\n",
       "    <tr>\n",
       "      <th>9238</th>\n",
       "      <td>394559</td>\n",
       "      <td>-26984</td>\n",
       "      <td>(ProductVideoPlay, -26984, 2024-08-13 17:26:18...</td>\n",
       "    </tr>\n",
       "  </tbody>\n",
       "</table>\n",
       "</div>"
      ],
      "text/plain": [
       "      UserID Session                                              Event\n",
       "9229  393825    -420  (ProductVideoPlay, -420, 2024-08-12 12:27:42, ...\n",
       "9230  393825    -420  (ProductVideoPlay, -420, 2024-08-12 12:29:10, ...\n",
       "9231  393825    -420  (ProductVideoPlay, -420, 2024-08-12 12:29:15, ...\n",
       "9232  393825    -420  (ProductVideoPlay, -420, 2024-08-12 12:36:45, ...\n",
       "9238  394559  -26984  (ProductVideoPlay, -26984, 2024-08-13 17:26:18..."
      ]
     },
     "execution_count": 12,
     "metadata": {},
     "output_type": "execute_result"
    }
   ],
   "source": [
    "events.tail()"
   ]
  },
  {
   "cell_type": "markdown",
   "id": "997ed48e-3009-4bcc-a80d-bdfcd981492b",
   "metadata": {},
   "source": [
    "## Reading product_viwed separately because of its size"
   ]
  },
  {
   "cell_type": "code",
   "execution_count": 13,
   "id": "19b05476-05be-4534-ba5a-150472b9381b",
   "metadata": {},
   "outputs": [],
   "source": [
    "\n",
    "query= \"\"\"select toInt64(product_viewed.user_id) AS PID, users_be.CreatedAt, FirstOrder.FirstOrderAt,\n",
    "    context_session_id AS Session, timestamp AS Time, category AS Category, name AS Name, price AS Price, \n",
    "    toInt64(users_be.ID) AS UID, toInt64(FirstOrder.ID) AS FID\n",
    "    FROM product_viewed \n",
    "    JOIN users_be ON  UID= PID\n",
    "    JOIN `user_first_orders` AS FirstOrder ON PID = FID\n",
    "    WHERE (users_be.CreatedAt >= toDateTime('2023-08-02')) \n",
    "        AND DATEDIFF(day, users_be.CreatedAt, FirstOrder.FirstOrderAt) =0 \n",
    "        AND Session IS NOT NULL\n",
    "        AND Time < FirstOrder.FirstOrderAt;\"\"\"\n",
    "    "
   ]
  },
  {
   "cell_type": "code",
   "execution_count": 14,
   "id": "1e2c325b-60ee-4f2d-90bc-388a1e378731",
   "metadata": {},
   "outputs": [
    {
     "name": "stdout",
     "output_type": "stream",
     "text": [
      "events after concat (340920, 3)\n",
      "Done!\n"
     ]
    }
   ],
   "source": [
    "\n",
    "# Define your ClickHouse connection parameters\n",
    "host = os.environ[\"CLICKHOUSE_HOST\"]\n",
    "port = 8123  # Default ClickHouse port, change if necessary\n",
    "username = os.environ[\"CLICKHOUSE_USERNAME\"]\n",
    "password = os.environ[\"CLICKHOUSE_PASSWORD\"]\n",
    "database = os.environ[\"CLICKHOUSE_DATABASE\"]\n",
    "\n",
    "## Making database connection\n",
    "conn = clickhouse_connect.get_client(host=HOST, port=PORT, username=USER, \n",
    "                                         password=PASSWORD, secure=False)\n",
    "event = 'ProductView'\n",
    "columns=['UserID', 'JoinDate', 'ActivationDate', 'Session', 'Time', 'Category', 'Name', 'Price', 'UID', 'FID']\n",
    "  \n",
    "result = conn.query(query)\n",
    "rows = result.result_rows\n",
    "df = pd.DataFrame(rows, columns=columns)\n",
    "\n",
    "# Cleaning the UserID column\n",
    "df['UserID'] = df['UserID'].astype('int32')\n",
    "df['Session'] = df['Session'].astype('int16')\n",
    "\n",
    "df = df[df['UserID'].isin(users['UserID'])]\n",
    "df['Event'] = df.apply(tuplize, t=1, event=event, axis=1)\n",
    "\n",
    "events = pd.concat([events, df[['UserID', 'Session', 'Event']].copy()])\n",
    "print('events after concat', events.shape)\n",
    "           \n",
    "conn.close()\n",
    "events.reset_index(inplace=True, drop=True)\n",
    "del df\n",
    "print(\"Done!\")      \n"
   ]
  },
  {
   "cell_type": "markdown",
   "id": "25dd3cbd-f54f-4efe-a336-7936e21a3e14",
   "metadata": {},
   "source": [
    "## Pickling the events dataframe"
   ]
  },
  {
   "cell_type": "code",
   "execution_count": 16,
   "id": "f96eb43d-ea98-4f5c-b417-a0b9b0d3c322",
   "metadata": {},
   "outputs": [
    {
     "name": "stdout",
     "output_type": "stream",
     "text": [
      "finish\n"
     ]
    }
   ],
   "source": [
    "\n",
    "events.to_pickle(\"events.pkl\")\n",
    "print('finish')\n"
   ]
  },
  {
   "cell_type": "markdown",
   "id": "69f40ff8-56f4-416b-95a3-be27e65bd0bd",
   "metadata": {},
   "source": [
    "## Event per User per Session"
   ]
  },
  {
   "cell_type": "code",
   "execution_count": 208,
   "id": "aff4668d-15c2-4b5e-841a-3376581b8507",
   "metadata": {},
   "outputs": [
    {
     "data": {
      "text/plain": [
       "(1863, 4)"
      ]
     },
     "execution_count": 208,
     "metadata": {},
     "output_type": "execute_result"
    }
   ],
   "source": [
    "\n",
    "group = events.groupby(['UserID', 'Session']).agg(lambda x: sorted(list(x), key=lambda tup: tup[2]))\n",
    "group['Lens'] = group['Event'].apply(len)\n",
    "group.sort_values(by=['Lens'], inplace=True)\n",
    "group = group[group['Lens'] < 2000]\n",
    "group.reset_index(inplace=True)\n",
    "group.shape\n"
   ]
  },
  {
   "cell_type": "code",
   "execution_count": 209,
   "id": "51af0714-cf41-4be4-9703-4d8f999e32bc",
   "metadata": {},
   "outputs": [
    {
     "data": {
      "text/html": [
       "<div>\n",
       "<style scoped>\n",
       "    .dataframe tbody tr th:only-of-type {\n",
       "        vertical-align: middle;\n",
       "    }\n",
       "\n",
       "    .dataframe tbody tr th {\n",
       "        vertical-align: top;\n",
       "    }\n",
       "\n",
       "    .dataframe thead th {\n",
       "        text-align: right;\n",
       "    }\n",
       "</style>\n",
       "<table border=\"1\" class=\"dataframe\">\n",
       "  <thead>\n",
       "    <tr style=\"text-align: right;\">\n",
       "      <th></th>\n",
       "      <th>UserID</th>\n",
       "      <th>Session</th>\n",
       "      <th>Event</th>\n",
       "      <th>Lens</th>\n",
       "    </tr>\n",
       "  </thead>\n",
       "  <tbody>\n",
       "    <tr>\n",
       "      <th>0</th>\n",
       "      <td>267814</td>\n",
       "      <td>-743</td>\n",
       "      <td>[(AppOpen, -743, 2024-02-15 12:04:39)]</td>\n",
       "      <td>1</td>\n",
       "    </tr>\n",
       "    <tr>\n",
       "      <th>1</th>\n",
       "      <td>383282</td>\n",
       "      <td>-19819</td>\n",
       "      <td>[(AppOpen, -19819, 2024-07-23 13:39:37)]</td>\n",
       "      <td>1</td>\n",
       "    </tr>\n",
       "    <tr>\n",
       "      <th>2</th>\n",
       "      <td>256717</td>\n",
       "      <td>11197</td>\n",
       "      <td>[(AppOpen, 11197, 2024-01-24 15:24:46)]</td>\n",
       "      <td>1</td>\n",
       "    </tr>\n",
       "    <tr>\n",
       "      <th>3</th>\n",
       "      <td>307441</td>\n",
       "      <td>-20955</td>\n",
       "      <td>[(AppOpen, -20955, 2024-03-25 17:02:31)]</td>\n",
       "      <td>1</td>\n",
       "    </tr>\n",
       "    <tr>\n",
       "      <th>4</th>\n",
       "      <td>277222</td>\n",
       "      <td>-23798</td>\n",
       "      <td>[(AppOpen, -23798, 2024-02-29 15:30:33)]</td>\n",
       "      <td>1</td>\n",
       "    </tr>\n",
       "  </tbody>\n",
       "</table>\n",
       "</div>"
      ],
      "text/plain": [
       "   UserID  Session                                     Event  Lens\n",
       "0  267814     -743    [(AppOpen, -743, 2024-02-15 12:04:39)]     1\n",
       "1  383282   -19819  [(AppOpen, -19819, 2024-07-23 13:39:37)]     1\n",
       "2  256717    11197   [(AppOpen, 11197, 2024-01-24 15:24:46)]     1\n",
       "3  307441   -20955  [(AppOpen, -20955, 2024-03-25 17:02:31)]     1\n",
       "4  277222   -23798  [(AppOpen, -23798, 2024-02-29 15:30:33)]     1"
      ]
     },
     "execution_count": 209,
     "metadata": {},
     "output_type": "execute_result"
    }
   ],
   "source": [
    "group.head()"
   ]
  },
  {
   "cell_type": "code",
   "execution_count": 210,
   "id": "4c95a551-b29c-444b-a3f4-559dcdb6e409",
   "metadata": {},
   "outputs": [],
   "source": [
    "def sequence(row):\n",
    "    seq = [tup[0] for tup in row['Event']]\n",
    "    return seq"
   ]
  },
  {
   "cell_type": "code",
   "execution_count": 211,
   "id": "53a8ee5d-0fa6-424e-9d28-66629845e95e",
   "metadata": {},
   "outputs": [],
   "source": [
    "group['Sequence'] = group.apply(sequence, axis=1)"
   ]
  },
  {
   "cell_type": "code",
   "execution_count": 215,
   "id": "64e6a2d4-567f-4609-b1f0-5a2449fd5663",
   "metadata": {},
   "outputs": [],
   "source": [
    "\n",
    "divent = {'AddClick': 1, 'AppOpen': 2, 'AppUpdate': 3, 'CollectionClick': 4, 'FirstOrder': 5, \n",
    "          'ProductAddtoList': 6, 'ProductClick': 7, 'ProductImageDownload': 8, \n",
    "          'ProductListFilter': 9, 'ProductListView': 10, 'ProductShare': 11, \n",
    "          'ProductSearch': 12, 'ProductVideoDownload': 13, 'ProductVideoPlay': 14, \n",
    "          'ProductView': 15, 'PromotionClick': 16, 'TooltipClick': 17}\n",
    "          "
   ]
  },
  {
   "cell_type": "code",
   "execution_count": 216,
   "id": "4a0169d2-4b3d-4a56-ac6a-f7e9d9eba455",
   "metadata": {},
   "outputs": [
    {
     "data": {
      "text/plain": [
       "(1863, 6)"
      ]
     },
     "execution_count": 216,
     "metadata": {},
     "output_type": "execute_result"
    }
   ],
   "source": [
    "\n",
    "def numerize(column):\n",
    "    replacer = divent.get\n",
    "    vec = [replacer(n, n) for n in column['Sequence']]\n",
    "    return vec\n",
    "\n",
    "group['Vec'] = group.apply(numerize, axis=1)\n",
    "group.shape"
   ]
  },
  {
   "cell_type": "code",
   "execution_count": 217,
   "id": "469e8758-1a1a-448a-8bb0-7a29b125a466",
   "metadata": {},
   "outputs": [],
   "source": [
    "\n",
    "maxe = group['Lens'].max()\n",
    "\n",
    "def padding(column):\n",
    "    pad = [0] * (maxe - len(column['Vec'])) + column['Vec']\n",
    "    return pad\n"
   ]
  },
  {
   "cell_type": "code",
   "execution_count": 218,
   "id": "f3da3158-7edc-4fa9-b54c-69b913e3af4d",
   "metadata": {},
   "outputs": [
    {
     "data": {
      "text/plain": [
       "(1863, 1984)"
      ]
     },
     "execution_count": 218,
     "metadata": {},
     "output_type": "execute_result"
    }
   ],
   "source": [
    "\n",
    "x = pd.DataFrame(list(group.apply(padding, axis=1)))\n",
    "x.shape"
   ]
  },
  {
   "cell_type": "markdown",
   "id": "180f32c6-a9b4-4c45-b4eb-c06009744f23",
   "metadata": {},
   "source": [
    "## Finding the ideal number of clusters"
   ]
  },
  {
   "cell_type": "code",
   "execution_count": 222,
   "id": "2189bd21-a217-45df-91c8-82b009e59b43",
   "metadata": {},
   "outputs": [],
   "source": [
    "import matplotlib\n",
    "import matplotlib.pyplot as plt\n",
    "from matplotlib import colors\n",
    "from matplotlib.colors import ListedColormap\n",
    "\n",
    "import seaborn as sns\n",
    "from sklearn.preprocessing import LabelEncoder\n",
    "from sklearn.preprocessing import StandardScaler\n",
    "from sklearn.decomposition import PCA\n",
    "from sklearn.metrics import silhouette_score\n",
    "from sklearn.cluster import KMeans\n",
    "from sklearn.cluster import AgglomerativeClustering"
   ]
  },
  {
   "cell_type": "code",
   "execution_count": 223,
   "id": "1b7d7449-4052-4f97-ae61-8f66bf7a469e",
   "metadata": {},
   "outputs": [
    {
     "data": {
      "image/png": "[encoded data removed]",
      "text/plain": [
       "<Figure size 640x480 with 1 Axes>"
      ]
     },
     "metadata": {},
     "output_type": "display_data"
    }
   ],
   "source": [
    "ks = range(1, 10)\n",
    "inertias = []\n",
    "\n",
    "for k in ks:\n",
    "    model = KMeans(n_clusters=k)\n",
    "    model.fit(x)\n",
    "    inertias.append(model.inertia_)\n",
    "\n",
    "plt.plot(ks, inertias, '-o', color='#00A4A5')\n",
    "plt.xlabel('number of clusters, k')\n",
    "plt.ylabel('inertia')\n",
    "plt.xticks(ks)\n",
    "plt.show()"
   ]
  },
  {
   "cell_type": "code",
   "execution_count": 294,
   "id": "ed42c500-ebb1-4da2-ae59-906e2da2f66c",
   "metadata": {},
   "outputs": [
    {
     "name": "stdout",
     "output_type": "stream",
     "text": [
      "Silhouette Score: 0.541414452010041\n"
     ]
    }
   ],
   "source": [
    "\n",
    "#Adding the Clusters feature to the orignal dataframe.\n",
    "model = KMeans(n_clusters=3)\n",
    "prediction = model.fit_predict(x)\n",
    "\n",
    "\n",
    "group[\"Cluster\"] = prediction\n",
    "\n",
    "# silhouette score\n",
    "print(\"Silhouette Score:\", silhouette_score(x, model.fit_predict(x), metric='euclidean'))"
   ]
  },
  {
   "cell_type": "code",
   "execution_count": 296,
   "id": "8a6fa0e3-3781-4390-8070-6276821a7f76",
   "metadata": {},
   "outputs": [
    {
     "data": {
      "text/plain": [
       "array([1, 0, 2], dtype=int32)"
      ]
     },
     "execution_count": 296,
     "metadata": {},
     "output_type": "execute_result"
    }
   ],
   "source": [
    "group['Cluster'].unique()"
   ]
  },
  {
   "cell_type": "markdown",
   "id": "60496f52-6dae-4ea6-bb90-f1dccbbba360",
   "metadata": {},
   "source": [
    "## Profiling Clusters"
   ]
  },
  {
   "cell_type": "code",
   "execution_count": 311,
   "id": "234463b6-9335-4421-bb56-855d3d5b212e",
   "metadata": {},
   "outputs": [],
   "source": [
    "def hasorder(column):\n",
    "    if 'FirstOrder' in column['Sequence']:\n",
    "        return 1\n",
    "    else:\n",
    "        return 0"
   ]
  },
  {
   "cell_type": "code",
   "execution_count": 313,
   "id": "20f8e765-199f-4aac-8464-b708e91fa72c",
   "metadata": {},
   "outputs": [
    {
     "data": {
      "text/plain": [
       "(30, 2)"
      ]
     },
     "execution_count": 313,
     "metadata": {},
     "output_type": "execute_result"
    }
   ],
   "source": [
    "zero = pd.DataFrame(group[group['Cluster']==0]['Sequence'])\n",
    "# zero = group[group['Cluster']==0]['Sequence']\n",
    "\n",
    "zero['HasOrder'] = zero.apply(hasorder, axis=1)\n",
    "zeroo = zero[zero['HasOrder']==1]\n",
    "zeroo.shape"
   ]
  },
  {
   "cell_type": "code",
   "execution_count": 320,
   "id": "8477ee2a-0eaa-4100-be0f-bbd62cd6926e",
   "metadata": {},
   "outputs": [
    {
     "name": "stdout",
     "output_type": "stream",
     "text": [
      "['AppOpen', 'ProductView', 'ProductView', 'ProductView', 'ProductView', 'ProductView', 'ProductView', 'ProductView', 'ProductView', 'ProductView', 'ProductView', 'ProductView', 'ProductView', 'ProductView', 'ProductView', 'ProductView', 'ProductView', 'ProductView', 'ProductView', 'ProductView', 'ProductView', 'ProductView', 'ProductView', 'ProductView', 'ProductView', 'ProductView', 'ProductView', 'ProductView', 'ProductView', 'ProductView', 'ProductView', 'ProductView', 'ProductView', 'ProductView', 'ProductView', 'ProductView', 'ProductView', 'ProductView', 'ProductView', 'ProductView', 'ProductView', 'ProductView', 'ProductView', 'ProductView', 'ProductView', 'ProductView', 'ProductView', 'ProductView', 'ProductView', 'ProductView', 'ProductView', 'ProductView', 'ProductView', 'ProductView', 'ProductView', 'ProductView', 'ProductView', 'ProductView', 'ProductView', 'ProductView', 'ProductView', 'ProductView', 'ProductView', 'ProductView', 'ProductView', 'ProductView', 'ProductView', 'ProductView', 'ProductView', 'ProductView', 'ProductView', 'ProductView', 'ProductView', 'ProductView', 'ProductView', 'ProductView', 'ProductView', 'ProductView', 'ProductView', 'ProductView', 'ProductView', 'ProductView', 'ProductView', 'ProductView', 'ProductView', 'ProductListView', 'AppOpen', 'ProductListView', 'ProductView', 'ProductView', 'ProductView', 'ProductView', 'ProductListView', 'ProductView', 'ProductView', 'ProductView', 'ProductView', 'ProductView', 'ProductView', 'ProductView', 'ProductView', 'ProductView', 'ProductView', 'ProductListView', 'ProductView', 'ProductView', 'ProductClick', 'FirstOrder', 'ProductView', 'ProductView', 'ProductView', 'ProductView', 'AppOpen', 'ProductView', 'ProductView', 'ProductView', 'ProductView', 'ProductView', 'ProductView', 'ProductView', 'ProductView', 'ProductView', 'ProductView', 'ProductClick', 'ProductClick']\n"
     ]
    }
   ],
   "source": [
    "print(zeroo.iloc[0,0])"
   ]
  },
  {
   "cell_type": "code",
   "execution_count": 314,
   "id": "7f0a14db-1440-43dd-b134-a51603e4cdf7",
   "metadata": {},
   "outputs": [
    {
     "data": {
      "text/plain": [
       "(38, 2)"
      ]
     },
     "execution_count": 314,
     "metadata": {},
     "output_type": "execute_result"
    }
   ],
   "source": [
    "one = pd.DataFrame(group[group['Cluster']==1]['Sequence'])\n",
    "# one = group[group['Cluster']==1]['Sequence']\n",
    "\n",
    "one['HasOrder'] = one.apply(hasorder, axis=1)\n",
    "oneo = one[one['HasOrder']==1]\n",
    "oneo.shape"
   ]
  },
  {
   "cell_type": "code",
   "execution_count": 322,
   "id": "96d70c33-6e84-43f8-8388-0e4293051a8e",
   "metadata": {},
   "outputs": [
    {
     "name": "stdout",
     "output_type": "stream",
     "text": [
      "['AppOpen', 'ProductListView', 'ProductSearch', 'ProductListFilter', 'ProductListView', 'ProductClick', 'AppOpen', 'AppOpen', 'AppOpen', 'AppOpen', 'AppOpen', 'FirstOrder', 'AppOpen', 'AppOpen', 'ProductListView', 'ProductListView']\n"
     ]
    }
   ],
   "source": [
    "print(oneo.iloc[0,0])\n"
   ]
  },
  {
   "cell_type": "code",
   "execution_count": 315,
   "id": "da0320df-6acb-4a7c-8b63-8f0fadb64f3b",
   "metadata": {},
   "outputs": [
    {
     "data": {
      "text/plain": [
       "(12, 2)"
      ]
     },
     "execution_count": 315,
     "metadata": {},
     "output_type": "execute_result"
    }
   ],
   "source": [
    "two = pd.DataFrame(group[group['Cluster']==2]['Sequence'])\n",
    "# zero = group[group['Cluster']==0]['Sequence']\n",
    "\n",
    "two['HasOrder'] = two.apply(hasorder, axis=1)\n",
    "twoo = two[two['HasOrder']==1]\n",
    "twoo.shape"
   ]
  },
  {
   "cell_type": "code",
   "execution_count": 326,
   "id": "cfb37525-0f1c-4124-9267-8100c5d0614a",
   "metadata": {},
   "outputs": [
    {
     "name": "stdout",
     "output_type": "stream",
     "text": [
      "1069\n"
     ]
    }
   ],
   "source": [
    "print(len(twoo.iloc[4,0]))\n"
   ]
  },
  {
   "cell_type": "code",
   "execution_count": 337,
   "id": "78e911d7-c626-4ac6-b9a7-116d70fdb62c",
   "metadata": {},
   "outputs": [
    {
     "data": {
      "image/png": "[encoded data removed]",
      "text/plain": [
       "<Figure size 640x480 with 1 Axes>"
      ]
     },
     "metadata": {},
     "output_type": "display_data"
    }
   ],
   "source": [
    "x[\"Cluster\"] = prediction\n",
    "\n",
    "zeroc = pd.DataFrame(x[x['Cluster']==0]).iloc[:,:-1]\n",
    "# zeroc.head()\n",
    "ks = range(1, 10)\n",
    "inertias = []\n",
    "\n",
    "for k in ks:\n",
    "    model = KMeans(n_clusters=k)\n",
    "    model.fit(zeroc)\n",
    "    inertias.append(model.inertia_)\n",
    "\n",
    "plt.plot(ks, inertias, '-o', color='#00A4A5')\n",
    "plt.xlabel('number of clusters, k')\n",
    "plt.ylabel('inertia')\n",
    "plt.xticks(ks)\n",
    "plt.show()"
   ]
  },
  {
   "cell_type": "code",
   "execution_count": 342,
   "id": "7a3234d5-e455-4d59-8f7f-47b836c5657d",
   "metadata": {},
   "outputs": [
    {
     "data": {
      "text/plain": [
       "Index(['0', '1', '2', '3', '4', '5', '6', '7', '8', '9',\n",
       "       ...\n",
       "       '1975', '1976', '1977', '1978', '1979', '1980', '1981', '1982', '1983',\n",
       "       'Cluster'],\n",
       "      dtype='object', length=1985)"
      ]
     },
     "execution_count": 342,
     "metadata": {},
     "output_type": "execute_result"
    }
   ],
   "source": [
    "zeroc.columns\n",
    "# zeroc.columns = zeroc.columns.astype(str)"
   ]
  },
  {
   "cell_type": "code",
   "execution_count": 348,
   "id": "42570a79-cffc-4deb-96e6-7d2dadd158bf",
   "metadata": {},
   "outputs": [
    {
     "name": "stdout",
     "output_type": "stream",
     "text": [
      "Silhouette Score: 0.29164879416515205\n"
     ]
    }
   ],
   "source": [
    "\n",
    "#Adding the Clusters feature to the orignal dataframe.\n",
    "model = KMeans(n_clusters=5)\n",
    "prediction = model.fit_predict(zeroc)\n",
    "\n",
    "\n",
    "zeroc[\"Cluster\"] = prediction\n",
    "\n",
    "# silhouette score\n",
    "print(\"Silhouette Score:\", silhouette_score(zeroc, model.fit_predict(zeroc), metric='euclidean'))"
   ]
  },
  {
   "cell_type": "code",
   "execution_count": 349,
   "id": "c3311cc8-2061-40d4-9e6f-342bb3ef927f",
   "metadata": {},
   "outputs": [
    {
     "name": "stdout",
     "output_type": "stream",
     "text": [
      "['AppOpen', 'ProductView', 'ProductView', 'ProductView', 'ProductView', 'ProductView', 'ProductView', 'ProductView', 'ProductView', 'ProductView', 'ProductView', 'ProductView', 'ProductView', 'ProductView', 'ProductView', 'ProductView', 'ProductView', 'ProductView', 'ProductView', 'ProductView', 'ProductView', 'ProductView', 'ProductView', 'ProductView', 'ProductView', 'ProductView', 'ProductView', 'ProductView', 'ProductView', 'ProductView', 'ProductView', 'ProductView', 'ProductView', 'ProductView', 'ProductView', 'ProductView', 'ProductView', 'ProductView', 'ProductView', 'ProductView', 'ProductView', 'ProductView', 'ProductView', 'ProductView', 'ProductView', 'ProductView', 'ProductView', 'ProductView', 'ProductView', 'ProductView', 'ProductView', 'ProductView', 'ProductView', 'ProductView', 'ProductView', 'ProductView', 'ProductView', 'ProductView', 'ProductView', 'ProductView', 'ProductView', 'ProductView', 'ProductView', 'ProductView', 'ProductView', 'ProductView', 'ProductView', 'ProductView', 'ProductView', 'ProductView', 'ProductView', 'ProductView', 'ProductView', 'ProductView', 'ProductView', 'ProductView', 'ProductView', 'ProductView', 'ProductView', 'ProductView', 'ProductView', 'ProductView', 'ProductView', 'ProductView', 'ProductView', 'ProductListView', 'AppOpen', 'ProductListView', 'ProductView', 'ProductView', 'ProductView', 'ProductView', 'ProductListView', 'ProductView', 'ProductView', 'ProductView', 'ProductView', 'ProductView', 'ProductView', 'ProductView', 'ProductView', 'ProductView', 'ProductView', 'ProductListView', 'ProductView', 'ProductView', 'ProductClick', 'FirstOrder', 'ProductView', 'ProductView', 'ProductView', 'ProductView', 'AppOpen', 'ProductView', 'ProductView', 'ProductView', 'ProductView', 'ProductView', 'ProductView', 'ProductView', 'ProductView', 'ProductView', 'ProductView', 'ProductClick', 'ProductClick']\n"
     ]
    }
   ],
   "source": [
    "my = pd.DataFrame(group[group['Cluster']==0]['Sequence'])\n",
    "# zero = group[group['Cluster']==0]['Sequence']\n",
    "\n",
    "my['HasOrder'] = my.apply(hasorder, axis=1)\n",
    "myo = my[my['HasOrder']==1]\n",
    "# zeroo.shape\n",
    "print(myo.iloc[0,0])\n"
   ]
  },
  {
   "cell_type": "code",
   "execution_count": null,
   "id": "22fe56a0-6f4b-402e-b228-6ffc551d6315",
   "metadata": {},
   "outputs": [],
   "source": []
  }
 ],
 "metadata": {
  "kernelspec": {
   "display_name": "Python 3 (ipykernel)",
   "language": "python",
   "name": "python3"
  },
  "language_info": {
   "codemirror_mode": {
    "name": "ipython",
    "version": 3
   },
   "file_extension": ".py",
   "mimetype": "text/x-python",
   "name": "python",
   "nbconvert_exporter": "python",
   "pygments_lexer": "ipython3",
   "version": "3.10.0"
  }
 },
 "nbformat": 4,
 "nbformat_minor": 5
}
